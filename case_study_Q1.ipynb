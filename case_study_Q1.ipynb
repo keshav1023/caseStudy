{
 "cells": [
  {
   "cell_type": "code",
   "execution_count": 13,
   "metadata": {},
   "outputs": [
    {
     "data": {
      "image/png": "[encoded data removed]",
      "text/plain": [
       "<Figure size 432x288 with 1 Axes>"
      ]
     },
     "metadata": {
      "needs_background": "light"
     },
     "output_type": "display_data"
    },
    {
     "name": "stdout",
     "output_type": "stream",
     "text": [
      "NCR 709\n"
     ]
    }
   ],
   "source": [
    "# problem 1\n",
    "import pandas as pd\n",
    "import matplotlib.pyplot as plt\n",
    "file_data=pd.read_csv(\"startup_funding.csv\",encoding=\"utf-8\")\n",
    "df=file_data.copy()\n",
    "def func(x):\n",
    "    return x.split(\"/\")[0].strip()\n",
    "# droping the rows which have NaN entries\n",
    "df.dropna(subset=[\"CityLocation\"],inplace=True)\n",
    "# reseting the index after dropping\n",
    "df.reset_index(drop=True,inplace=True) \n",
    "df.CityLocation=df.CityLocation.apply(func) \n",
    "df.CityLocation.replace(\"Delhi\",\"New Delhi\",inplace=True)\n",
    "df.CityLocation.replace(\"bangalore\",\"Bangalore\",inplace=True)\n",
    "df.CityLocation.replace(\"New Delhi\",\"NCR\",inplace=True)\n",
    "df.CityLocation.replace(\"Gurgaon\",\"NCR\",inplace=True)\n",
    "df.CityLocation.replace(\"Noida\",\"NCR\",inplace=True)\n",
    "\n",
    "df=df[df.apply(lambda x: x.CityLocation in [\"Bangalore\",\"Mumbai\",\"NCR\"],axis=1)]\n",
    "x=df.CityLocation.value_counts().index\n",
    "y=df.CityLocation.value_counts().values\n",
    "# plotting the bar graph as per the data obtained above\n",
    "plt.bar(x,y,color=\"green\")\n",
    "plt.title(\"Location vs No. of fundings\")\n",
    "plt.ylabel(\"No. of fundings\")\n",
    "plt.xticks(rotation=-30)\n",
    "plt.yticks(rotation=-30)\n",
    "plt.xlabel(\"Location\")\n",
    "plt.grid()\n",
    "for i in range(3):\n",
    "    plt.text(x[i],y[i]/2,y[i],fontsize=12)\n",
    "plt.show()\n",
    "# printing location with maximum no. of fundings along with the number of fundings\n",
    "print(x[0],y[0]) \n"
   ]
  },
  {
   "cell_type": "code",
   "execution_count": 5,
   "metadata": {},
   "outputs": [
    {
     "name": "stdout",
     "output_type": "stream",
     "text": [
      "       SNo        Date       StartupName   IndustryVertical  \\\n",
      "0        0  01/08/2017          TouchKin         Technology   \n",
      "1        1  02/08/2017           Ethinos         Technology   \n",
      "2        2  02/08/2017      Leverage Edu  Consumer Internet   \n",
      "3        3  02/08/2017              Zepo  Consumer Internet   \n",
      "4        4  02/08/2017      Click2Clinic  Consumer Internet   \n",
      "...    ...         ...               ...                ...   \n",
      "2367  2367  29/01/2015        Printvenue                NaN   \n",
      "2368  2368  29/01/2015          Graphene                NaN   \n",
      "2369  2369  30/01/2015    Mad Street Den                NaN   \n",
      "2370  2370  30/01/2015         Simplotel                NaN   \n",
      "2371  2371  31/01/2015  couponmachine.in                NaN   \n",
      "\n",
      "                                        SubVertical CityLocation  \\\n",
      "0                          Predictive Care Platform    Bangalore   \n",
      "1                          Digital Marketing Agency       Mumbai   \n",
      "2     Online platform for Higher Education Services    New Delhi   \n",
      "3                            DIY Ecommerce platform       Mumbai   \n",
      "4                     healthcare service aggregator    Hyderabad   \n",
      "...                                             ...          ...   \n",
      "2367                                            NaN          NaN   \n",
      "2368                                            NaN          NaN   \n",
      "2369                                            NaN          NaN   \n",
      "2370                                            NaN          NaN   \n",
      "2371                                            NaN          NaN   \n",
      "\n",
      "                                          InvestorsName  InvestmentType  \\\n",
      "0                                           Kae Capital  Private Equity   \n",
      "1                            Triton Investment Advisors  Private Equity   \n",
      "2     Kashyap Deorah, Anand Sankeshwar, Deepak Jain,...    Seed Funding   \n",
      "3     Kunal Shah, LetsVenture, Anupam Mittal, Hetal ...    Seed Funding   \n",
      "4                        Narottam Thudi, Shireesh Palle    Seed Funding   \n",
      "...                                                 ...             ...   \n",
      "2367                        Asia Pacific Internet Group  Private Equity   \n",
      "2368                                     KARSEMVEN Fund  Private Equity   \n",
      "2369                     Exfinity Fund, GrowX Ventures.  Private Equity   \n",
      "2370                                         MakeMyTrip  Private Equity   \n",
      "2371                  UK based Group of Angel Investors    Seed Funding   \n",
      "\n",
      "     AmountInUSD                            Remarks  \n",
      "0      1,300,000                                NaN  \n",
      "1            NaN                                NaN  \n",
      "2            NaN                                NaN  \n",
      "3        500,000                                NaN  \n",
      "4        850,000                                NaN  \n",
      "...          ...                                ...  \n",
      "2367   4,500,000                                NaN  \n",
      "2368     825,000                Govt backed VC Fund  \n",
      "2369   1,500,000                                NaN  \n",
      "2370         NaN  Strategic Funding, Minority stake  \n",
      "2371     140,000                                NaN  \n",
      "\n",
      "[2372 rows x 10 columns]\n"
     ]
    }
   ],
   "source": []
  }
 ],
 "metadata": {
  "kernelspec": {
   "display_name": "Python 3",
   "language": "python",
   "name": "python3"
  },
  "language_info": {
   "codemirror_mode": {
    "name": "ipython",
    "version": 3
   },
   "file_extension": ".py",
   "mimetype": "text/x-python",
   "name": "python",
   "nbconvert_exporter": "python",
   "pygments_lexer": "ipython3",
   "version": "3.8.5"
  }
 },
 "nbformat": 4,
 "nbformat_minor": 4
}
